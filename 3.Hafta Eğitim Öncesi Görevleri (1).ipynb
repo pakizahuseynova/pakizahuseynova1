{
  "cells": [
    {
      "cell_type": "markdown",
      "metadata": {
        "id": "tsD4YVAe_Te2"
      },
      "source": [
        "# Problem 1\n",
        "Bir sayının 7'ye bölünebilir olup olmadığını kontrol etmek \n",
        "için bir program yazın.\n",
        "\n",
        "İpucu: Mod operatörünü (%) kullanabilirsiniz."
      ]
    },
    {
      "cell_type": "code",
      "execution_count": 1,
      "metadata": {
        "id": "NGjvNwKx_Te7"
      },
      "outputs": [
        {
          "name": "stdout",
          "output_type": "stream",
          "text": [
            "Sayi 7'ye bölünüyor\n"
          ]
        }
      ],
      "source": [
        "n= int(input(\"n sayisi giriniz: \"))\n",
        "\n",
        "if n %7 == 0 :\n",
        "    print(\"Sayi 7'ye bölünüyor\")\n",
        "else :\n",
        "    print(\"Sayi 7'ye bölünmüyor\")\n",
        "\n"
      ]
    },
    {
      "cell_type": "markdown",
      "metadata": {
        "id": "Kg3qiBAI_Te8"
      },
      "source": [
        "# Problem 2\n",
        "Kullanıcıdan vize ve final notu isteyin. Girilen vize notunun %40’ı ve \n",
        "girilen finalnotunun ise %60’ı alınarak yıl sonu not ortalaması hesaplanacaktır. \n",
        "\n",
        "Bu not ortalaması eğer 85 ve üzeri ise AA, \n",
        "\n",
        "75 ve 85 arasında ise BA, \n",
        "\n",
        "70 ve 75 arasında ise BB, \n",
        "\n",
        "65 ve 70 arasında ise CB,\n",
        "\n",
        "60 ve 65 arasında ise CC,\n",
        "\n",
        "55 ve 60 arasında ise DC,\n",
        "\n",
        "50 ve 55 arasında ise DD olarak hesaplanacaktır. \n",
        "\n",
        "Bu öğrencinin yıl sonu toplam notu 50’nin altında ise FF ile dersten kalacaktır. \n",
        "\n",
        "Ayrıca öğrencinin final notu 50’nin altında ise direkt FF ile kalacaktır."
      ]
    },
    {
      "cell_type": "code",
      "execution_count": 14,
      "metadata": {
        "id": "MXTtCxI1_Te8"
      },
      "outputs": [
        {
          "name": "stdout",
          "output_type": "stream",
          "text": [
            "Notunuz FF\n"
          ]
        }
      ],
      "source": [
        "vizeNot = int(input(\"Vize notunuzu giriniz:\"))\n",
        "finalNot = int(input(\"Final notunuzu giriniz:\"))\n",
        "\n",
        "ortalamaNot = (vizeNot*0.4) + (finalNot*0.6)\n",
        "\n",
        "\n",
        "if ortalamaNot>= 85 :\n",
        "    print(\"Notunuz AA\")\n",
        "if ortalamaNot<85 and ortalamaNot>=75 :\n",
        "    print(\"Notunuz BA\")\n",
        "if ortalamaNot<75 and ortalamaNot>70 :\n",
        "    print(\"Notunuz BB\")\n",
        "if ortalamaNot<70 and ortalamaNot>65 :\n",
        "    print(\"Notunuz CB\")\n",
        "if ortalamaNot<65 and ortalamaNot>60 :\n",
        "    print(\"Notunuz CC\")\n",
        "if ortalamaNot<60 and ortalamaNot>55 :\n",
        "    print(\"Notunuz DC\")\n",
        "if ortalamaNot<55 and ortalamaNot>=50 :\n",
        "    print(\"Notunnuz DD\")\n",
        "if ortalamaNot<50 :\n",
        "    print(\"Notunuz FF\")\n",
        "if vizeNot<50 :\n",
        "    print(\"Notunuz FF\")\n",
        "\n"
      ]
    },
    {
      "cell_type": "markdown",
      "metadata": {
        "id": "tAoRYCTC_Te8"
      },
      "source": [
        "# Problem 3\n",
        "İki YetGenli Zirve'de karşılaşıyorlar. Birbirlerini tanımak için sorular soruyorlar. Birbirlerine yaşlarını soruyorlar. Akıllarına bir Python programı yazıp, yaşlarını ve isimlerini giriyorlar. Büyük olanın yaşını ekrana yazdıran programı yazıyorlar. Sende bu iki YetGenli'ye destek olmak ister misin?\n",
        "\n",
        "```\n",
        "Birinci YetGenlinin ismi: Ahmet\n",
        "Birinci YetGenlinin yaşı : 20\n",
        "İkinci YetGenlinin ismi: Mehmet\n",
        "İkinci YetGenlinin yaşı : 25\n",
        "Mehmet'in yaşı daha büyük ve yaşı 25'tir.\n",
        "```"
      ]
    },
    {
      "cell_type": "code",
      "execution_count": 16,
      "metadata": {
        "id": "bPjE8W0i_Te8"
      },
      "outputs": [
        {
          "name": "stdout",
          "output_type": "stream",
          "text": [
            "25\n"
          ]
        }
      ],
      "source": [
        "yetGenli1= \"Ahnet\"\n",
        "yas1= 20\n",
        "yetGenli2= \"Mehmet\"\n",
        "yas2=25\n",
        "\n",
        "if yas1<yas2:\n",
        "    print(yas2)\n",
        "else:\n",
        "    print(yas1)\n"
      ]
    },
    {
      "cell_type": "markdown",
      "metadata": {
        "id": "zBVv8Tyg_Te9"
      },
      "source": [
        "# Problem 4\n",
        "Pandemi döneminde AVM'lerde ateş ölçümü yapılıyor. AVM'ye giren kişinin ateş ölçümü 37.5 derecenin altında ise girişe izin veriliyor. 37.5 derecenin üstünde ise girişe izin verilmiyor. AVM'ye girişe izin verilip verilmediğini ekrana yazdıran bir program yazın.\n",
        "\n",
        "Program sonunda şöyle bir çıktı elde etmelisiniz:\n",
        "\n",
        "```\n",
        "Ateşiniz 37.5 derece. AVM'ye girebilirsin! Maske takmayı unutma!\n",
        "Ateşiniz 37.6 derece. AVM'ye giremezsin! Hemen evine dön!\n",
        "```"
      ]
    },
    {
      "cell_type": "code",
      "execution_count": 19,
      "metadata": {
        "id": "TSAXs8et_Te9"
      },
      "outputs": [
        {
          "name": "stdout",
          "output_type": "stream",
          "text": [
            "AVM'ye girebilirsin! Maske takmayi unutma!\n"
          ]
        }
      ],
      "source": [
        "ates = int(input(\"Atesiniz kac cikti? \"))\n",
        "if ates<=37.5 :\n",
        "    print(\"AVM'ye girebilirsin! Maske takmayi unutma!\")\n",
        "if ates>=37.6 :\n",
        "    print(\"AVM'ye giremezsiniz! Hemen evine don!\")"
      ]
    },
    {
      "cell_type": "markdown",
      "metadata": {
        "id": "6AEkZrDt_Te9"
      },
      "source": [
        "# Problem 5\n",
        "YetGen bir spor kulübüyle sponsorluk anlaşması yapıyor. Kulüp, sponsorluk anlaşmasına göre her YetGen liderinin beden kitle indeksini hesaplamak istiyor. Spor kulübü, beden kitle indeksini hesaplamak için YetGen Jump Python liderlerinden Berkcan ve Ahmet'i arıyor. Berkcan ve Ahmet, kulübe yardımcı olmak için bir Python programı yazıyorlar. Sende bu iki YetGen liderine destek olmak ister misin?\n",
        "\n",
        "Kullanıcıdan alınan boy ve kilo değerlerine göre beden kitle indeksini hesaplayın ve şu kurallara göre ekrana şu yazıları yazdırın.\n",
        "\n",
        "\n",
        "Beden Kitle İndeksi, kişinin ağırlığının (kg olarak) boyunun karesine (m olarak) bölünmesiyle hesaplanır.\n",
        "\n",
        "\n",
        "```\n",
        " BKİ 18.5'un altındaysa -------> Zayıf\n",
        "\n",
        " BKİ 18.5 ile 25 arasındaysa ------> Normal\n",
        "\n",
        " BKİ 25 ile 30 arasındaysa --------> Fazla Kilolu\n",
        "\n",
        " BKİ 30'un üstündeyse -------------> Obez\n",
        "```\n",
        "\n"
      ]
    },
    {
      "cell_type": "code",
      "execution_count": 59,
      "metadata": {
        "id": "t-XPI_u0_Te-"
      },
      "outputs": [
        {
          "name": "stdout",
          "output_type": "stream",
          "text": [
            "23.18339100346021\n",
            "normal\n"
          ]
        }
      ],
      "source": [
        "boy= float(input(\"Boyunuzu giriniz(m):\"))\n",
        "agirlik= int(input(\"Agiriliginizi giriniz(kg):\"))\n",
        "\n",
        "bki= agirlik / boy**2\n",
        "print(bki)\n",
        "if bki<18.5 :\n",
        "    print(\"zayif\")\n",
        "if bki>=18.5 and bki<25 :\n",
        "    print(\"normal\")\n",
        "if bki>=25 and bki<30 :\n",
        "    print(\"fazla kilolu\")\n",
        "if bki>=30 :\n",
        "    print(\"obez\")"
      ]
    },
    {
      "cell_type": "markdown",
      "metadata": {
        "id": "oFsvQyaO_Te-"
      },
      "source": [
        "# Problem 6\n",
        "Kullanıcıdan isim, yaş ve eğitim bilgilerini isteyip ehliyet alabilme  durumunu kontrol ediniz. \n",
        "\n",
        "Ehliyet alma koşulu en az 18 yaşında ve eğitim durumu lise ya da üniversite olmalıdır. "
      ]
    },
    {
      "cell_type": "code",
      "execution_count": 46,
      "metadata": {
        "id": "Tu2mcgco_Te-"
      },
      "outputs": [
        {
          "name": "stdout",
          "output_type": "stream",
          "text": [
            "Ehliyet alabilirsiniz\n"
          ]
        }
      ],
      "source": [
        "isimE= input(\"Merhaba, isminiz nedir?\")\n",
        "yasE= int(input(\"Kac yasiniz var?\"))\n",
        "egitimE= input(\"Egitim durumunuz nedir?\")\n",
        "\n",
        "if yasE>= 18 and egitimE == \"lise\" or egitimE == \"universite\" :\n",
        "    print(\"Ehliyet alabilirsiniz\")\n",
        "else :\n",
        "    print(\"Ehliyet alamazsiniz\")\n"
      ]
    },
    {
      "cell_type": "markdown",
      "metadata": {
        "id": "eUkxVSAE_Te_"
      },
      "source": [
        "# Problem 7\n",
        "Bir yılın artık yıl olup olmadığını kontrol etmek için bir program yazın. \n",
        "Artık yıl kuralı:\n",
        "\n",
        "a) Eğer yılın son iki basamağı (00) ile bitmiyor ve yalnızca 4'e tam bölünüyorsa artık yıldır. Ya da, \n",
        "\n",
        "b) Eğer yıl 400'e tam bölünüyorsa artık yıldır.\n",
        "\n",
        "**Örneğin**\n",
        "```\n",
        "2017 artık yıl değildir.\n",
        "1900 artık yıl değildir\n",
        "2012 artık yıldır.\n",
        "2000 artık yıldır.\n",
        "```"
      ]
    },
    {
      "cell_type": "code",
      "execution_count": 69,
      "metadata": {
        "id": "4uWh8qUL_Te_"
      },
      "outputs": [
        {
          "name": "stdout",
          "output_type": "stream",
          "text": [
            "artik yil degil\n"
          ]
        }
      ],
      "source": [
        "yil= int(input(\"Yil giriniz:\"))\n",
        "\n",
        "if  yil % 400 == 0 :\n",
        "    print(\"artik yil\")\n",
        "else :\n",
        "    print(\"artik yil degil\")\n",
        "\n",
        "\n"
      ]
    }
  ],
  "metadata": {
    "colab": {
      "provenance": []
    },
    "kernelspec": {
      "display_name": "base",
      "language": "python",
      "name": "python3"
    },
    "language_info": {
      "codemirror_mode": {
        "name": "ipython",
        "version": 3
      },
      "file_extension": ".py",
      "mimetype": "text/x-python",
      "name": "python",
      "nbconvert_exporter": "python",
      "pygments_lexer": "ipython3",
      "version": "3.8.5"
    },
    "orig_nbformat": 4,
    "vscode": {
      "interpreter": {
        "hash": "cdf9472d7855a8245d0664937e9b17f4de09a1705772f564174b00f7360ef18e"
      }
    }
  },
  "nbformat": 4,
  "nbformat_minor": 0
}
